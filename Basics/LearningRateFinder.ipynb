{
  "nbformat": 4,
  "nbformat_minor": 0,
  "metadata": {
    "colab": {
      "name": "LearningRateFinder.ipynb",
      "version": "0.3.2",
      "views": {},
      "default_view": {},
      "provenance": []
    },
    "kernelspec": {
      "name": "python3",
      "display_name": "Python 3"
    },
    "accelerator": "GPU"
  },
  "cells": [
    {
      "metadata": {
        "id": "OjVat8aWJlkw",
        "colab_type": "text"
      },
      "cell_type": "markdown",
      "source": [
        "# 1.0 Introduction\n",
        "Learning rate is one of the most important hyperparameter in any Neoral network. We spend a lot of time to find suitable learning rate for out model. On 2015 [Leslie Smith]((http://arxiv.org/abs/1506.01186)) published a simple way of finding learning rate. Today we are going to learn that idea and then will implement it in out model using keras.\n",
        "\n",
        "The idea is actually very simple. We will start training out model using a very low learning rate then exponentially increase that over iteration. In the mean time we will save our learning rate along with our loss and iteration. We will stop this procedure when loss start to jump.\n",
        "Pretty simple, right?\n",
        "\n",
        "We will use our [simple 4 layer model](http://puzzlemusa.com/2018/04/24/resnet-in-keras/) to classify cifar10 dataset."
      ]
    },
    {
      "metadata": {
        "id": "skYud9T7OxcQ",
        "colab_type": "text"
      },
      "cell_type": "markdown",
      "source": [
        "# 1.1 Importing libraries"
      ]
    },
    {
      "metadata": {
        "id": "Pn6RVKEP5udu",
        "colab_type": "code",
        "colab": {
          "autoexec": {
            "startup": false,
            "wait_interval": 0
          }
        }
      },
      "cell_type": "code",
      "source": [
        "# Put these at the top of every notebook, to get automatic reloading and inline plotting\n",
        "%reload_ext autoreload\n",
        "%autoreload 2\n",
        "%matplotlib inline"
      ],
      "execution_count": 0,
      "outputs": []
    },
    {
      "metadata": {
        "id": "ag1yHj-88ima",
        "colab_type": "code",
        "colab": {
          "autoexec": {
            "startup": false,
            "wait_interval": 0
          },
          "base_uri": "https://localhost:8080/",
          "height": 36
        },
        "outputId": "b8e1c1df-53d3-477c-ec3a-1625c90fa643",
        "executionInfo": {
          "status": "ok",
          "timestamp": 1526311966800,
          "user_tz": -360,
          "elapsed": 1508,
          "user": {
            "displayName": "Abu Saleh Md Musa",
            "photoUrl": "//lh6.googleusercontent.com/-fDb9ce0qkbc/AAAAAAAAAAI/AAAAAAAAAJE/V-G3vl7KIC8/s50-c-k-no/photo.jpg",
            "userId": "114240932428114114845"
          }
        }
      },
      "cell_type": "code",
      "source": [
        "from __future__ import print_function\n",
        "import matplotlib.pyplot as plt\n",
        "import numpy as np\n",
        "import keras\n",
        "from keras.datasets import cifar10\n",
        "from keras.models import Sequential, Model\n",
        "from keras.layers import Dense, Dropout, Activation, Flatten, Input\n",
        "from keras.layers import Conv2D, MaxPooling2D, BatchNormalization, AveragePooling2D\n",
        "from keras.callbacks import Callback\n",
        "import os\n",
        "import keras.backend as K"
      ],
      "execution_count": 2,
      "outputs": [
        {
          "output_type": "stream",
          "text": [
            "Using TensorFlow backend.\n"
          ],
          "name": "stderr"
        }
      ]
    },
    {
      "metadata": {
        "id": "JDvSJGMDO5Ye",
        "colab_type": "text"
      },
      "cell_type": "markdown",
      "source": [
        "# 1.2 Initialization"
      ]
    },
    {
      "metadata": {
        "id": "Aqrty-N18qCa",
        "colab_type": "code",
        "colab": {
          "autoexec": {
            "startup": false,
            "wait_interval": 0
          }
        }
      },
      "cell_type": "code",
      "source": [
        "bs = 64\n",
        "num_classes = 10\n",
        "epochs = 5"
      ],
      "execution_count": 0,
      "outputs": []
    },
    {
      "metadata": {
        "id": "TGAh4OakO_HJ",
        "colab_type": "text"
      },
      "cell_type": "markdown",
      "source": [
        "# 1.3 Collecting data"
      ]
    },
    {
      "metadata": {
        "id": "3KGhhNa98tH4",
        "colab_type": "code",
        "colab": {
          "autoexec": {
            "startup": false,
            "wait_interval": 0
          },
          "base_uri": "https://localhost:8080/",
          "height": 73
        },
        "outputId": "f8cef6dd-f60d-4e9e-b78b-87f425ad7a9d",
        "executionInfo": {
          "status": "ok",
          "timestamp": 1526311976592,
          "user_tz": -360,
          "elapsed": 1408,
          "user": {
            "displayName": "Abu Saleh Md Musa",
            "photoUrl": "//lh6.googleusercontent.com/-fDb9ce0qkbc/AAAAAAAAAAI/AAAAAAAAAJE/V-G3vl7KIC8/s50-c-k-no/photo.jpg",
            "userId": "114240932428114114845"
          }
        }
      },
      "cell_type": "code",
      "source": [
        "# The data, split between train and test sets:\n",
        "(x_train, y_train), (x_test, y_test) = cifar10.load_data()\n",
        "print('x_train shape:', x_train.shape)\n",
        "\n",
        "# Convert class vectors to binary class matrices.\n",
        "y_train = keras.utils.to_categorical(y_train, num_classes)\n",
        "y_test = keras.utils.to_categorical(y_test, num_classes)\n",
        "x_train = x_train.astype('float32')\n",
        "x_test = x_test.astype('float32')\n",
        "x_train  /= 255\n",
        "x_test /= 255\n",
        "print(x_train.shape[0], 'train samples')\n",
        "print(x_test.shape[0], 'test samples')"
      ],
      "execution_count": 4,
      "outputs": [
        {
          "output_type": "stream",
          "text": [
            "x_train shape: (50000, 32, 32, 3)\n",
            "50000 train samples\n",
            "10000 test samples\n"
          ],
          "name": "stdout"
        }
      ]
    },
    {
      "metadata": {
        "id": "OZt7tTgcPDtV",
        "colab_type": "text"
      },
      "cell_type": "markdown",
      "source": [
        "# 2.1 Model"
      ]
    },
    {
      "metadata": {
        "id": "jpRagsoG8v1o",
        "colab_type": "code",
        "colab": {
          "autoexec": {
            "startup": false,
            "wait_interval": 0
          }
        }
      },
      "cell_type": "code",
      "source": [
        "def four_layer_model():\n",
        " \n",
        "    model = Sequential()\n",
        "  \n",
        "    model.add(Conv2D(32, (3, 3), padding='same', activation='relu', input_shape=x_train.shape[1:]))\n",
        "    \n",
        "    model.add(Conv2D(32,(3, 3), activation='relu'))\n",
        "    model.add(MaxPooling2D())\n",
        "    model.add(Dropout(0.25))\n",
        " \n",
        "    model.add(Conv2D(64, (3, 3), padding='same', activation='relu'))\n",
        "    \n",
        "    model.add(Conv2D(64, (3,3), activation='relu'))\n",
        "    model.add(MaxPooling2D())\n",
        "    model.add(Dropout(0.25))\n",
        " \n",
        "    model.add(Flatten())\n",
        "    model.add(Dense(512, activation='relu'))\n",
        "    model.add(Dropout(0.5))\n",
        "    model.add(Dense(num_classes, activation='softmax'))\n",
        " \n",
        "    return model"
      ],
      "execution_count": 0,
      "outputs": []
    },
    {
      "metadata": {
        "id": "hQX-wb6xPJm3",
        "colab_type": "text"
      },
      "cell_type": "markdown",
      "source": [
        "# 2.2 Learning rate finder\n",
        "If we go through this [fit_loop method](https://github.com/keras-team/keras/blob/master/keras/engine/training_arrays.py), we can see it takes a callback array. Here we are going to use this callback. To utilize this we are creating a new class *LR_Finder* inherited from keras [Callback](https://github.com/keras-team/keras/blob/master/keras/callbacks.py). Basically when we will call *fit* method of our model this *fit_loop* method will be called.\n",
        "\n",
        "As loss may up-down a bit we will have scattered plot. In that case we are also calculating a smoother loss using linear interpolation"
      ]
    },
    {
      "metadata": {
        "id": "F9gRE8WIgrT-",
        "colab_type": "code",
        "colab": {
          "autoexec": {
            "startup": false,
            "wait_interval": 0
          }
        }
      },
      "cell_type": "code",
      "source": [
        "class LR_Finder(Callback):\n",
        "    \n",
        "    def __init__(self, start_lr=1e-5, end_lr=10, step_size=None, beta=.98):\n",
        "        super().__init__()\n",
        "        \n",
        "        self.start_lr = start_lr\n",
        "        self.end_lr = end_lr\n",
        "        self.step_size = step_size\n",
        "        self.beta = beta\n",
        "        self.lr_mult = (end_lr/start_lr)**(1/step_size)\n",
        "        \n",
        "    def on_train_begin(self, logs=None):\n",
        "        self.best_loss = 1e9\n",
        "        self.avg_loss = 0\n",
        "        self.losses, self.smoothed_losses, self.lrs, self.iterations = [], [], [], []\n",
        "        self.iteration = 0\n",
        "        logs = logs or {}\n",
        "        K.set_value(self.model.optimizer.lr, self.start_lr)\n",
        "        \n",
        "    def on_batch_end(self, epoch, logs=None):\n",
        "        logs = logs or {}\n",
        "        loss = logs.get('loss')\n",
        "        \n",
        "        \n",
        "        self.avg_loss = self.beta * self.avg_loss + (1 - self.beta) * loss\n",
        "        smoothed_loss = self.avg_loss / (1 - self.beta**self.iteration)\n",
        "        \n",
        "        # Check if the loss is not exploding\n",
        "        if self.iteration>1 and smoothed_loss > self.best_loss * 4:\n",
        "            self.model.stop_training = True\n",
        "            return\n",
        "\n",
        "        if smoothed_loss < self.best_loss or self.iteration==1:\n",
        "            self.best_loss = smoothed_loss\n",
        "        \n",
        "        lr = self.start_lr * (self.lr_mult**self.iteration)\n",
        "        \n",
        "        self.iteration += 1\n",
        "        self.losses.append(loss)\n",
        "        self.smoothed_losses.append(smoothed_loss)\n",
        "        self.lrs.append(lr)\n",
        "        self.iterations.append(self.iteration)\n",
        "        \n",
        "        \n",
        "        K.set_value(self.model.optimizer.lr, lr)  \n",
        "        \n",
        "    def plot_lr(self):\n",
        "        plt.xlabel('Iterations')\n",
        "        plt.ylabel('Learning rate')\n",
        "        plt.plot(self.iterations, self.lrs)\n",
        "        \n",
        "    def plot(self, n_skip=10):\n",
        "        plt.ylabel('Loss')\n",
        "        plt.xlabel('Learning rate (log scale)')\n",
        "        plt.plot(self.lrs[n_skip:-5], self.losses[n_skip:-5])\n",
        "        plt.xscale('log')\n",
        "        \n",
        "    def plot_smoothed_loss(self, n_skip=10):\n",
        "        plt.ylabel('Smoothed Losses')\n",
        "        plt.xlabel('Learning rate (log scale)')\n",
        "        plt.plot(self.lrs[n_skip:-5], self.smoothed_losses[n_skip:-5])\n",
        "        plt.xscale('log')\n",
        "        \n",
        "    def plot_loss(self):\n",
        "        plt.ylabel('Losses')\n",
        "        plt.xlabel('Iterations')\n",
        "        plt.plot(self.iterations[10:], self.losses[10:])"
      ],
      "execution_count": 0,
      "outputs": []
    },
    {
      "metadata": {
        "id": "8RGpFkkPQxVx",
        "colab_type": "text"
      },
      "cell_type": "markdown",
      "source": [
        "# 2.3 Finding learning rate"
      ]
    },
    {
      "metadata": {
        "id": "gaGIHYPH8zJM",
        "colab_type": "code",
        "colab": {
          "autoexec": {
            "startup": false,
            "wait_interval": 0
          }
        }
      },
      "cell_type": "code",
      "source": [
        "model4 = four_layer_model()\n",
        "model4.compile(loss='categorical_crossentropy', optimizer='ADAM', metrics=['accuracy'])"
      ],
      "execution_count": 0,
      "outputs": []
    },
    {
      "metadata": {
        "id": "uZqxlu9IhmxY",
        "colab_type": "code",
        "colab": {
          "autoexec": {
            "startup": false,
            "wait_interval": 0
          },
          "base_uri": "https://localhost:8080/",
          "height": 93
        },
        "outputId": "41e86b20-28a0-4633-9cba-d4f26502138c",
        "executionInfo": {
          "status": "ok",
          "timestamp": 1526312010816,
          "user_tz": -360,
          "elapsed": 21794,
          "user": {
            "displayName": "Abu Saleh Md Musa",
            "photoUrl": "//lh6.googleusercontent.com/-fDb9ce0qkbc/AAAAAAAAAAI/AAAAAAAAAJE/V-G3vl7KIC8/s50-c-k-no/photo.jpg",
            "userId": "114240932428114114845"
          }
        }
      },
      "cell_type": "code",
      "source": [
        "lr_finder = LR_Finder(start_lr=1e-5, end_lr=10, step_size=np.ceil(x_train.shape[0]/bs))\n",
        "model4.fit(x_train, y_train, callbacks=[lr_finder] )"
      ],
      "execution_count": 8,
      "outputs": [
        {
          "output_type": "stream",
          "text": [
            "Epoch 1/1\n",
            "  288/50000 [..............................] - ETA: 3:07 - loss: 2.3226 - acc: 0.1007"
          ],
          "name": "stdout"
        },
        {
          "output_type": "stream",
          "text": [
            "/usr/local/lib/python3.6/dist-packages/ipykernel_launcher.py:26: RuntimeWarning: divide by zero encountered in double_scalars\n"
          ],
          "name": "stderr"
        },
        {
          "output_type": "stream",
          "text": [
            "26464/50000 [==============>...............] - ETA: 17s - loss: 2.8217 - acc: 0.1334"
          ],
          "name": "stdout"
        },
        {
          "output_type": "execute_result",
          "data": {
            "text/plain": [
              "<keras.callbacks.History at 0x7f6e5b50d0f0>"
            ]
          },
          "metadata": {
            "tags": []
          },
          "execution_count": 8
        }
      ]
    },
    {
      "metadata": {
        "id": "j7WqO2DhHgHv",
        "colab_type": "code",
        "colab": {
          "autoexec": {
            "startup": false,
            "wait_interval": 0
          },
          "base_uri": "https://localhost:8080/",
          "height": 279
        },
        "outputId": "415bfa8f-c228-4229-89aa-a2cb1aaac564",
        "executionInfo": {
          "status": "ok",
          "timestamp": 1526312013948,
          "user_tz": -360,
          "elapsed": 980,
          "user": {
            "displayName": "Abu Saleh Md Musa",
            "photoUrl": "//lh6.googleusercontent.com/-fDb9ce0qkbc/AAAAAAAAAAI/AAAAAAAAAJE/V-G3vl7KIC8/s50-c-k-no/photo.jpg",
            "userId": "114240932428114114845"
          }
        }
      },
      "cell_type": "code",
      "source": [
        "lr_finder.plot_lr()"
      ],
      "execution_count": 9,
      "outputs": [
        {
          "output_type": "display_data",
          "data": {
            "image/png": "[encoded data removed]",
            "text/plain": [
              "<matplotlib.figure.Figure at 0x7f6e99076748>"
            ]
          },
          "metadata": {
            "tags": []
          }
        }
      ]
    },
    {
      "metadata": {
        "id": "kGN3ewc183Pa",
        "colab_type": "code",
        "colab": {
          "autoexec": {
            "startup": false,
            "wait_interval": 0
          },
          "base_uri": "https://localhost:8080/",
          "height": 283
        },
        "outputId": "d29a6879-7b0d-4d60-c65d-4874d98a2861",
        "executionInfo": {
          "status": "ok",
          "timestamp": 1526312018858,
          "user_tz": -360,
          "elapsed": 1516,
          "user": {
            "displayName": "Abu Saleh Md Musa",
            "photoUrl": "//lh6.googleusercontent.com/-fDb9ce0qkbc/AAAAAAAAAAI/AAAAAAAAAJE/V-G3vl7KIC8/s50-c-k-no/photo.jpg",
            "userId": "114240932428114114845"
          }
        }
      },
      "cell_type": "code",
      "source": [
        "lr_finder.plot()"
      ],
      "execution_count": 10,
      "outputs": [
        {
          "output_type": "display_data",
          "data": {
            "image/png": "[encoded data removed]",
            "text/plain": [
              "<matplotlib.figure.Figure at 0x7f6e99076978>"
            ]
          },
          "metadata": {
            "tags": []
          }
        }
      ]
    },
    {
      "metadata": {
        "id": "k511BoIsGLEJ",
        "colab_type": "code",
        "colab": {
          "autoexec": {
            "startup": false,
            "wait_interval": 0
          },
          "base_uri": "https://localhost:8080/",
          "height": 283
        },
        "outputId": "9894c435-9292-4f72-f6f4-3cfd97537fea",
        "executionInfo": {
          "status": "ok",
          "timestamp": 1526312023988,
          "user_tz": -360,
          "elapsed": 1514,
          "user": {
            "displayName": "Abu Saleh Md Musa",
            "photoUrl": "//lh6.googleusercontent.com/-fDb9ce0qkbc/AAAAAAAAAAI/AAAAAAAAAJE/V-G3vl7KIC8/s50-c-k-no/photo.jpg",
            "userId": "114240932428114114845"
          }
        }
      },
      "cell_type": "code",
      "source": [
        "lr_finder.plot_smoothed_loss()"
      ],
      "execution_count": 11,
      "outputs": [
        {
          "output_type": "display_data",
          "data": {
            "image/png": "[encoded data removed]",
            "text/plain": [
              "<matplotlib.figure.Figure at 0x7f6e2ba47668>"
            ]
          },
          "metadata": {
            "tags": []
          }
        }
      ]
    },
    {
      "metadata": {
        "id": "cOyQaFpCjZai",
        "colab_type": "code",
        "colab": {
          "autoexec": {
            "startup": false,
            "wait_interval": 0
          },
          "base_uri": "https://localhost:8080/",
          "height": 282
        },
        "outputId": "f1d2c8bb-ec74-4294-fc9e-d4c85b8d7ab2",
        "executionInfo": {
          "status": "ok",
          "timestamp": 1526312028702,
          "user_tz": -360,
          "elapsed": 1238,
          "user": {
            "displayName": "Abu Saleh Md Musa",
            "photoUrl": "//lh6.googleusercontent.com/-fDb9ce0qkbc/AAAAAAAAAAI/AAAAAAAAAJE/V-G3vl7KIC8/s50-c-k-no/photo.jpg",
            "userId": "114240932428114114845"
          }
        }
      },
      "cell_type": "code",
      "source": [
        "lr_finder.plot_loss()"
      ],
      "execution_count": 12,
      "outputs": [
        {
          "output_type": "display_data",
          "data": {
            "image/png": "[encoded data removed]",
            "text/plain": [
              "<matplotlib.figure.Figure at 0x7f6e2b404550>"
            ]
          },
          "metadata": {
            "tags": []
          }
        }
      ]
    },
    {
      "metadata": {
        "id": "1DC7dbByPpoO",
        "colab_type": "text"
      },
      "cell_type": "markdown",
      "source": [
        "References:\n",
        "\n",
        "1.   https://github.com/nathanhubens/Learning-Rate\n",
        "2.   [fastai mooc](http://course.fast.ai/)\n",
        "\n"
      ]
    }
  ]
}